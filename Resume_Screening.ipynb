{
  "cells": [
    {
      "cell_type": "markdown",
      "metadata": {
        "id": "view-in-github",
        "colab_type": "text"
      },
      "source": [
        "<a href=\"https://colab.research.google.com/github/harshitneverdebugs/ResuMatchAI/blob/main/Resume_Screening.ipynb\" target=\"_parent\"><img src=\"https://colab.research.google.com/assets/colab-badge.svg\" alt=\"Open In Colab\"/></a>"
      ]
    },
    {
      "cell_type": "code",
      "source": [
        "from google.colab import drive\n",
        "drive.mount('/content/drive')"
      ],
      "metadata": {
        "id": "ijftH3MKm7cv"
      },
      "execution_count": null,
      "outputs": []
    },
    {
      "cell_type": "code",
      "execution_count": null,
      "metadata": {
        "id": "UAIJEkYsZW4m"
      },
      "outputs": [],
      "source": [
        "import numpy as np\n",
        "import pandas as pd\n",
        "import seaborn as sns"
      ]
    },
    {
      "cell_type": "code",
      "execution_count": null,
      "metadata": {
        "id": "Xrf1xsJbaFm3"
      },
      "outputs": [],
      "source": [
        "df=pd.read_csv(\"/content/drive/MyDrive/UpdatedResumeDataSet.csv\")"
      ]
    },
    {
      "cell_type": "code",
      "execution_count": null,
      "metadata": {
        "id": "gWFvnbgQaKO7"
      },
      "outputs": [],
      "source": [
        "df"
      ]
    },
    {
      "cell_type": "code",
      "execution_count": null,
      "metadata": {
        "id": "hNcyRv2baLJs"
      },
      "outputs": [],
      "source": [
        "df.isnull().sum()"
      ]
    },
    {
      "cell_type": "code",
      "execution_count": null,
      "metadata": {
        "id": "UV6rqoOdbFF0"
      },
      "outputs": [],
      "source": [
        "df.shape"
      ]
    },
    {
      "cell_type": "code",
      "execution_count": null,
      "metadata": {
        "id": "OsEpVIu4aYRy"
      },
      "outputs": [],
      "source": [
        "df['Category'].value_counts()"
      ]
    },
    {
      "cell_type": "code",
      "execution_count": null,
      "metadata": {
        "id": "mw5Oy-5brqU6"
      },
      "outputs": [],
      "source": [
        "import re"
      ]
    },
    {
      "cell_type": "code",
      "execution_count": null,
      "metadata": {
        "id": "CGD2dJtjEaIa"
      },
      "outputs": [],
      "source": [
        "import re\n",
        "def cleanResume(txt):\n",
        "    cleanText = re.sub('http\\S+\\s', ' ', txt)\n",
        "    cleanText = re.sub('RT|cc', ' ', cleanText)\n",
        "    cleanText = re.sub('#\\S+\\s', ' ', cleanText)\n",
        "    cleanText = re.sub('@\\S+', '  ', cleanText)\n",
        "    cleanText = re.sub('[%s]' % re.escape(\"\"\"!\"#$%&'()*+,-./:;<=>?@[\\]^_`{|}~\"\"\"), ' ', cleanText)\n",
        "    cleanText = re.sub(r'[^\\x00-\\x7f]', ' ', cleanText)\n",
        "    cleanText = re.sub('\\s+', ' ', cleanText)\n",
        "    return cleanText"
      ]
    },
    {
      "cell_type": "code",
      "execution_count": null,
      "metadata": {
        "id": "IG6gJAz9gPfL"
      },
      "outputs": [],
      "source": [
        "df['Resume'] = df['Resume'].apply(lambda x: cleanResume(x))"
      ]
    },
    {
      "cell_type": "code",
      "source": [
        "pip install -U sentence-transformers"
      ],
      "metadata": {
        "id": "Vp6V5oXuw7nx"
      },
      "execution_count": null,
      "outputs": []
    },
    {
      "cell_type": "code",
      "source": [
        "import pandas as pd\n",
        "from sentence_transformers import SentenceTransformer, util\n",
        "\n",
        "\n",
        "keywords = input('Enter the keywords you are looking for in the resumes (comma-separated): ')\n",
        "keywords_list = [keyword.strip().lower() for keyword in keywords.split(',')]\n",
        "def contains_keywords(content, keywords):\n",
        "    return any(keyword in content.lower() for keyword in keywords)\n",
        "shortlisted_resumes = df[df['Resume'].apply(lambda x: contains_keywords(x, keywords_list))]\n",
        "if len(shortlisted_resumes) == 0:\n",
        "    print(\"No candidate is found with the given keywords.\")\n",
        "else:\n",
        "    print(\"Shortlisted resumes based on the keywords:\")\n",
        "    print(shortlisted_resumes)\n",
        "    model = SentenceTransformer('sentence-transformers/distilbert-multilingual-nli-stsb-quora-ranking')\n",
        "    resume_embeddings = model.encode(shortlisted_resumes['Resume'].tolist())\n",
        "    reference_embedding = resume_embeddings[0]\n",
        "    shortlisted_resumes['Similarity Score'] = [util.pytorch_cos_sim(reference_embedding, emb).item() for emb in resume_embeddings]\n",
        "    ranked_resumes = shortlisted_resumes.sort_values(by='Similarity Score', ascending=False)\n",
        "    print(\"Ranked resumes based on similarity scores:\")\n",
        "    print(ranked_resumes[['Similarity Score', 'Category', 'Resume']])\n"
      ],
      "metadata": {
        "id": "K4MTA_7So2g9"
      },
      "execution_count": null,
      "outputs": []
    },
    {
      "cell_type": "code",
      "source": [],
      "metadata": {
        "id": "24qfSw3UpG1C"
      },
      "execution_count": null,
      "outputs": []
    }
  ],
  "metadata": {
    "colab": {
      "provenance": [],
      "include_colab_link": true
    },
    "kernelspec": {
      "display_name": "Python 3",
      "name": "python3"
    },
    "language_info": {
      "name": "python"
    }
  },
  "nbformat": 4,
  "nbformat_minor": 0
}